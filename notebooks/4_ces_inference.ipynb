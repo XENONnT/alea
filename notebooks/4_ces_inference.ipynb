{
 "cells": [
  {
   "cell_type": "code",
   "execution_count": 1,
   "metadata": {},
   "outputs": [],
   "source": [
    "import numpy as np\n",
    "import matplotlib.pyplot as plt\n",
    "\n",
    "from alea import BlueiceExtendedModel"
   ]
  },
  {
   "cell_type": "code",
   "execution_count": 2,
   "metadata": {},
   "outputs": [
    {
     "name": "stderr",
     "output_type": "stream",
     "text": [
      "Computing/loading models on one core: 100%|██████████| 5/5 [00:00<00:00, 139.42it/s]\n"
     ]
    }
   ],
   "source": [
    "config_path = \"unbinned_wimp_statistical_model_simple.yaml\"\n",
    "model = BlueiceExtendedModel.from_config(config_path)"
   ]
  },
  {
   "cell_type": "code",
   "execution_count": 3,
   "metadata": {},
   "outputs": [
    {
     "name": "stdout",
     "output_type": "stream",
     "text": [
      "                      nominal_value  fittable         ptype relative_uncertainty  uncertainty    blueice_anchors fit_limits parameter_interval_bounds  fit_guess                                               description\n",
      "wimp_mass                      50.0     False  needs_reinit                 None          NaN               None       None                      None        NaN                                      WIMP mass in GeV/c^2\n",
      "livetime                        2.0     False      livetime                 None          NaN               None       None                      None        NaN                                         Livetime in years\n",
      "wimp_rate_multiplier            1.0      True          rate                 None          NaN               None  [0, None]                   [0, 50]        NaN                                                      None\n",
      "er_rate_multiplier              1.0      True          rate                 True          0.2               None  [0, None]                      None        1.0                                                      None\n",
      "er_band_shift                   0.0      True         shape                 None          NaN  [-2, -1, 0, 1, 2]    [-2, 2]                      None        NaN  ER band shape parameter (shifts the ER band up and down)\n"
     ]
    }
   ],
   "source": [
    "print(model.parameters)"
   ]
  },
  {
   "cell_type": "code",
   "execution_count": 5,
   "metadata": {},
   "outputs": [],
   "source": [
    "from alea.utils import adapt_likelihood_config_for_blueice, get_template_folder_list, load_yaml"
   ]
  },
  {
   "cell_type": "code",
   "execution_count": 6,
   "metadata": {},
   "outputs": [],
   "source": [
    "config = load_yaml(config_path)"
   ]
  },
  {
   "cell_type": "code",
   "execution_count": 15,
   "metadata": {},
   "outputs": [],
   "source": [
    "likelihood_config = config['likelihood_config']"
   ]
  },
  {
   "cell_type": "code",
   "execution_count": 40,
   "metadata": {},
   "outputs": [
    {
     "data": {
      "text/plain": [
       "[{'cs1': 'np.arange(0, 102, 2)'}, {'cs2': 'np.geomspace(100, 100000, 51)'}]"
      ]
     },
     "execution_count": 40,
     "metadata": {},
     "output_type": "execute_result"
    }
   ],
   "source": [
    "likelihood_config['likelihood_terms'][0]['analysis_space']"
   ]
  },
  {
   "cell_type": "code",
   "execution_count": 44,
   "metadata": {},
   "outputs": [
    {
     "name": "stdout",
     "output_type": "stream",
     "text": [
      "/opt/XENONnT/anaconda/envs/XENONnT_2024.02.1/bin/python\n"
     ]
    }
   ],
   "source": [
    "!which python"
   ]
  },
  {
   "cell_type": "markdown",
   "metadata": {},
   "source": []
  },
  {
   "cell_type": "code",
   "execution_count": null,
   "metadata": {},
   "outputs": [],
   "source": []
  }
 ],
 "metadata": {
  "kernelspec": {
   "display_name": "Python 3 (ipykernel)",
   "language": "python",
   "name": "python3"
  },
  "language_info": {
   "codemirror_mode": {
    "name": "ipython",
    "version": 3
   },
   "file_extension": ".py",
   "mimetype": "text/x-python",
   "name": "python",
   "nbconvert_exporter": "python",
   "pygments_lexer": "ipython3",
   "version": "3.9.18"
  }
 },
 "nbformat": 4,
 "nbformat_minor": 2
}
