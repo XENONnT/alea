{
 "cells": [
  {
   "cell_type": "markdown",
   "metadata": {},
   "source": [
    "# 4.Using the 1D inference\n",
    "In this tutorial, we will show how to:\n",
    "- Define sources and transformations for 1D spectra\n",
    "- Use the 1D inference to fit with a CES spectrum \n",
    "- Search for a monoenergetic signal from Xe133 and flat backgrounds"
   ]
  },
  {
   "cell_type": "code",
   "execution_count": 38,
   "metadata": {},
   "outputs": [],
   "source": [
    "import numpy as np\n",
    "import matplotlib.pyplot as plt\n",
    "import sys\n",
    "import scipy.stats as stats\n",
    "from tqdm import tqdm\n",
    "\n",
    "# use the latest inference_interface to allow 1d hist!\n",
    "sys.path.insert(0, \"/home/yuem/xenon_package/inference_interface\")\n",
    "from inference_interface import multihist_to_template, template_to_multihist\n",
    "from alea.utils import get_file_path\n",
    "from alea.models import BlueiceExtendedModel"
   ]
  },
  {
   "cell_type": "markdown",
   "metadata": {},
   "source": [
    "## 4.1 Load the example yaml config and have a look\n",
    "In the example we include 3 components:\n",
    "- Xe133: a histogram based source\n",
    "- test_gaussian: a monoenergic source\n",
    "- test_flat: a flat source\n",
    "\n",
    "#### 4.1a parameter_defination\n",
    "This part is all the same as what we did in the previous notebooks - include all of your parameters and their information\n",
    "\n",
    "#### 4.1b likelihood_config\n",
    "Here we need to do a little bit more:\n",
    "- Define the transformations applied, the model for those transformations, and related parameters. For details you can check `ces_transformation.py`, in which we include the basic transformations (efficiency, smearing and bias) \n",
    "- For each kind of source, we need to provide the specific information needed\n",
    "\n",
    "For example, here we set:\n",
    "- apply_efficiency = True, efficiency_model = \"constant\", efficiency_parameters = \"efficiency\"\n",
    "\n",
    "The transformation parameter(s) must fit the chosen model and must appear in the parameter defination. Most of the time they should appear as shape parameteres with blueice anchors. Otherwise the speed of the fitting will be decreased dramatically."
   ]
  },
  {
   "cell_type": "code",
   "execution_count": 2,
   "metadata": {},
   "outputs": [
    {
     "data": {
      "text/plain": [
       "{'template_folder': None,\n",
       " 'likelihood_terms': [{'name': 'science_run_0',\n",
       "   'default_source_class': 'alea.ces_source.CESTemplateSource',\n",
       "   'likelihood_type': 'blueice.likelihood.UnbinnedLogLikelihood',\n",
       "   'analysis_space': [{'ces': 'np.arange(0, 500, 1)'}],\n",
       "   'apply_efficiency': True,\n",
       "   'efficiency_model': 'constant',\n",
       "   'efficiency_parameters': ['efficiency_constant'],\n",
       "   'apply_smearing': True,\n",
       "   'smearing_model': 'gaussian',\n",
       "   'smearing_parameters': ['smearing_a', 'smearing_b'],\n",
       "   'apply_bias': False,\n",
       "   'livetime_parameter': 'livetime',\n",
       "   'slice_args': {},\n",
       "   'sources': [{'name': 'xe133',\n",
       "     'histname': 'xe133_template',\n",
       "     'parameters': ['xe133_rate_multiplier',\n",
       "      'smearing_a',\n",
       "      'smearing_b',\n",
       "      'efficiency_constant'],\n",
       "     'template_filename': 'xe133_template.ii.h5'},\n",
       "    {'name': 'test_gaussian',\n",
       "     'class': 'alea.ces_source.CESMonoenergySource',\n",
       "     'peak_energy': 300,\n",
       "     'parameters': ['test_gaussian_rate_multiplier',\n",
       "      'smearing_a',\n",
       "      'smearing_b',\n",
       "      'efficiency_constant']},\n",
       "    {'name': 'test_flat',\n",
       "     'class': 'alea.ces_source.CESFlatSource',\n",
       "     'parameters': ['test_flat_rate_multiplier', 'efficiency_constant']}]}]}"
      ]
     },
     "execution_count": 2,
     "metadata": {},
     "output_type": "execute_result"
    }
   ],
   "source": [
    "import yaml\n",
    "\n",
    "example_model_config_path = get_file_path(\"unbinned_ces_simple.yaml\")\n",
    "with open(example_model_config_path, \"r\") as f:\n",
    "    example_model_config = yaml.load(f, Loader=yaml.FullLoader)\n",
    "example_model_config[\"likelihood_config\"]"
   ]
  },
  {
   "cell_type": "markdown",
   "metadata": {},
   "source": [
    "Let's look into the sources. The specific information (other than rate multipliers) needed by those basic sources are:\n",
    "- histogram-based: template_filename\n",
    "- flat: None\n",
    "- monoenergetic: peak_energy"
   ]
  },
  {
   "cell_type": "code",
   "execution_count": 3,
   "metadata": {},
   "outputs": [
    {
     "data": {
      "text/plain": [
       "[{'name': 'xe133',\n",
       "  'histname': 'xe133_template',\n",
       "  'parameters': ['xe133_rate_multiplier',\n",
       "   'smearing_a',\n",
       "   'smearing_b',\n",
       "   'efficiency_constant'],\n",
       "  'template_filename': 'xe133_template.ii.h5'},\n",
       " {'name': 'test_gaussian',\n",
       "  'class': 'alea.ces_source.CESMonoenergySource',\n",
       "  'peak_energy': 300,\n",
       "  'parameters': ['test_gaussian_rate_multiplier',\n",
       "   'smearing_a',\n",
       "   'smearing_b',\n",
       "   'efficiency_constant']},\n",
       " {'name': 'test_flat',\n",
       "  'class': 'alea.ces_source.CESFlatSource',\n",
       "  'parameters': ['test_flat_rate_multiplier', 'efficiency_constant']}]"
      ]
     },
     "execution_count": 3,
     "metadata": {},
     "output_type": "execute_result"
    }
   ],
   "source": [
    "example_model_config[\"likelihood_config\"][\"likelihood_terms\"][0][\"sources\"]"
   ]
  },
  {
   "cell_type": "markdown",
   "metadata": {},
   "source": [
    "## 4.2 Build the model based on the config\n",
    "This is all the same as previous notebooks"
   ]
  },
  {
   "cell_type": "code",
   "execution_count": 4,
   "metadata": {},
   "outputs": [
    {
     "name": "stdout",
     "output_type": "stream",
     "text": [
      "Building histogram\n",
      "Building histogram\n",
      "Building histogram\n"
     ]
    },
    {
     "name": "stderr",
     "output_type": "stream",
     "text": [
      "Computing/loading models on one core:   0%|          | 0/18 [00:00<?, ?it/s]"
     ]
    },
    {
     "name": "stdout",
     "output_type": "stream",
     "text": [
      "Building histogram\n"
     ]
    },
    {
     "name": "stderr",
     "output_type": "stream",
     "text": [
      "Computing/loading models on one core:   6%|▌         | 1/18 [00:00<00:14,  1.18it/s]"
     ]
    },
    {
     "name": "stdout",
     "output_type": "stream",
     "text": [
      "Building histogram\n",
      "Building histogram\n"
     ]
    },
    {
     "name": "stderr",
     "output_type": "stream",
     "text": [
      "Computing/loading models on one core:  11%|█         | 2/18 [00:01<00:14,  1.12it/s]"
     ]
    },
    {
     "name": "stdout",
     "output_type": "stream",
     "text": [
      "Building histogram\n",
      "Building histogram\n",
      "Building histogram\n",
      "Building histogram\n"
     ]
    },
    {
     "name": "stderr",
     "output_type": "stream",
     "text": [
      "Computing/loading models on one core:  17%|█▋        | 3/18 [00:02<00:13,  1.08it/s]"
     ]
    },
    {
     "name": "stdout",
     "output_type": "stream",
     "text": [
      "Building histogram\n"
     ]
    },
    {
     "name": "stderr",
     "output_type": "stream",
     "text": [
      "Computing/loading models on one core:  22%|██▏       | 4/18 [00:03<00:12,  1.11it/s]"
     ]
    },
    {
     "name": "stdout",
     "output_type": "stream",
     "text": [
      "Building histogram\n",
      "Building histogram\n"
     ]
    },
    {
     "name": "stderr",
     "output_type": "stream",
     "text": [
      "Computing/loading models on one core:  28%|██▊       | 5/18 [00:04<00:11,  1.14it/s]"
     ]
    },
    {
     "name": "stdout",
     "output_type": "stream",
     "text": [
      "Building histogram\n",
      "Building histogram\n",
      "Building histogram\n"
     ]
    },
    {
     "name": "stderr",
     "output_type": "stream",
     "text": [
      "Computing/loading models on one core:  33%|███▎      | 6/18 [00:05<00:11,  1.06it/s]"
     ]
    },
    {
     "name": "stdout",
     "output_type": "stream",
     "text": [
      "Building histogram\n"
     ]
    },
    {
     "name": "stderr",
     "output_type": "stream",
     "text": [
      "Computing/loading models on one core:  39%|███▉      | 7/18 [00:06<00:09,  1.10it/s]"
     ]
    },
    {
     "name": "stdout",
     "output_type": "stream",
     "text": [
      "Building histogram\n",
      "Building histogram\n"
     ]
    },
    {
     "name": "stderr",
     "output_type": "stream",
     "text": [
      "Computing/loading models on one core:  44%|████▍     | 8/18 [00:07<00:08,  1.14it/s]"
     ]
    },
    {
     "name": "stdout",
     "output_type": "stream",
     "text": [
      "Building histogram\n",
      "Building histogram\n"
     ]
    },
    {
     "name": "stderr",
     "output_type": "stream",
     "text": [
      "Computing/loading models on one core:  56%|█████▌    | 10/18 [00:07<00:05,  1.52it/s]"
     ]
    },
    {
     "name": "stdout",
     "output_type": "stream",
     "text": [
      "Building histogram\n",
      "Building histogram\n"
     ]
    },
    {
     "name": "stderr",
     "output_type": "stream",
     "text": [
      "Computing/loading models on one core:  61%|██████    | 11/18 [00:08<00:04,  1.45it/s]"
     ]
    },
    {
     "name": "stdout",
     "output_type": "stream",
     "text": [
      "Building histogram\n",
      "Building histogram\n"
     ]
    },
    {
     "name": "stderr",
     "output_type": "stream",
     "text": [
      "Computing/loading models on one core:  67%|██████▋   | 12/18 [00:09<00:04,  1.36it/s]"
     ]
    },
    {
     "name": "stdout",
     "output_type": "stream",
     "text": [
      "Building histogram\n",
      "Building histogram\n"
     ]
    },
    {
     "name": "stderr",
     "output_type": "stream",
     "text": [
      "Computing/loading models on one core:  72%|███████▏  | 13/18 [00:10<00:03,  1.33it/s]"
     ]
    },
    {
     "name": "stdout",
     "output_type": "stream",
     "text": [
      "Building histogram\n",
      "Building histogram\n"
     ]
    },
    {
     "name": "stderr",
     "output_type": "stream",
     "text": [
      "Computing/loading models on one core:  78%|███████▊  | 14/18 [00:11<00:03,  1.29it/s]"
     ]
    },
    {
     "name": "stdout",
     "output_type": "stream",
     "text": [
      "Building histogram\n",
      "Building histogram\n"
     ]
    },
    {
     "name": "stderr",
     "output_type": "stream",
     "text": [
      "Computing/loading models on one core:  83%|████████▎ | 15/18 [00:12<00:02,  1.28it/s]"
     ]
    },
    {
     "name": "stdout",
     "output_type": "stream",
     "text": [
      "Building histogram\n",
      "Building histogram\n"
     ]
    },
    {
     "name": "stderr",
     "output_type": "stream",
     "text": [
      "Computing/loading models on one core:  89%|████████▉ | 16/18 [00:12<00:01,  1.27it/s]"
     ]
    },
    {
     "name": "stdout",
     "output_type": "stream",
     "text": [
      "Building histogram\n",
      "Building histogram\n"
     ]
    },
    {
     "name": "stderr",
     "output_type": "stream",
     "text": [
      "Computing/loading models on one core:  94%|█████████▍| 17/18 [00:13<00:00,  1.26it/s]"
     ]
    },
    {
     "name": "stdout",
     "output_type": "stream",
     "text": [
      "Building histogram\n",
      "Building histogram\n"
     ]
    },
    {
     "name": "stderr",
     "output_type": "stream",
     "text": [
      "Computing/loading models on one core: 100%|██████████| 18/18 [00:14<00:00,  1.24it/s]"
     ]
    },
    {
     "name": "stdout",
     "output_type": "stream",
     "text": [
      "Building histogram\n"
     ]
    },
    {
     "name": "stderr",
     "output_type": "stream",
     "text": [
      "\n"
     ]
    }
   ],
   "source": [
    "example_model = BlueiceExtendedModel.from_config(example_model_config_path)"
   ]
  },
  {
   "cell_type": "code",
   "execution_count": 5,
   "metadata": {},
   "outputs": [
    {
     "data": {
      "text/plain": [
       "['xe133', 'test_gaussian', 'test_flat']"
      ]
     },
     "execution_count": 5,
     "metadata": {},
     "output_type": "execute_result"
    }
   ],
   "source": [
    "source_name_list = example_model.get_source_name_list(likelihood_name=\"science_run_0\")\n",
    "source_name_list"
   ]
  },
  {
   "cell_type": "markdown",
   "metadata": {},
   "source": [
    "By looking at the expectation of sources, we can find that the efficiency (nominal value=0.9) is applied"
   ]
  },
  {
   "cell_type": "code",
   "execution_count": 6,
   "metadata": {},
   "outputs": [
    {
     "data": {
      "text/plain": [
       "{'test_flat': 799.9999999999999,\n",
       " 'test_gaussian': 240.00000000000006,\n",
       " 'xe133': 800.000721781116}"
      ]
     },
     "execution_count": 6,
     "metadata": {},
     "output_type": "execute_result"
    }
   ],
   "source": [
    "example_model.get_expectation_values()"
   ]
  },
  {
   "cell_type": "markdown",
   "metadata": {},
   "source": [
    "## 4.3 Simulate some data and fit with it\n",
    "We can see that the smearing is correctly applied. "
   ]
  },
  {
   "cell_type": "code",
   "execution_count": 7,
   "metadata": {},
   "outputs": [
    {
     "data": {
      "image/png": "[encoded data removed]",
      "text/plain": [
       "<Figure size 640x480 with 1 Axes>"
      ]
     },
     "metadata": {},
     "output_type": "display_data"
    }
   ],
   "source": [
    "data = example_model.generate_data()\n",
    "example_model.data = data\n",
    "plt.hist(data[\"science_run_0\"][\"ces\"], bins=np.linspace(0, 500, 100), histtype=\"step\")\n",
    "plt.show()"
   ]
  },
  {
   "cell_type": "markdown",
   "metadata": {},
   "source": [
    "The fitted values are consistent with the nominal values that we set (1000, 1000 and 300)"
   ]
  },
  {
   "cell_type": "code",
   "execution_count": 11,
   "metadata": {},
   "outputs": [
    {
     "data": {
      "text/plain": [
       "{'livetime': 365.0,\n",
       " 'xe133_rate_multiplier': 1058.2538790745741,\n",
       " 'test_flat_rate_multiplier': 965.1163259805631,\n",
       " 'test_gaussian_rate_multiplier': 345.6196664730858,\n",
       " 'smearing_a': 24.865002715009357,\n",
       " 'smearing_b': 1.4310471172694272,\n",
       " 'efficiency_constant': 0.7948481366164633}"
      ]
     },
     "execution_count": 11,
     "metadata": {},
     "output_type": "execute_result"
    }
   ],
   "source": [
    "best_fit, max_ll = example_model.fit()\n",
    "best_fit"
   ]
  },
  {
   "cell_type": "markdown",
   "metadata": {},
   "source": [
    "## 4.4 Find the confidence interval of fitted rate_multipliers\n",
    "It's the same as what we did in `2_fitting_and_ci`"
   ]
  },
  {
   "cell_type": "code",
   "execution_count": 49,
   "metadata": {},
   "outputs": [
    {
     "name": "stderr",
     "output_type": "stream",
     "text": [
      "20it [00:02,  7.28it/s]\n"
     ]
    }
   ],
   "source": [
    "fitted_gs_rate = best_fit[\"test_gaussian_rate_multiplier\"]\n",
    "gs_rates = np.linspace(0.8 * fitted_gs_rate, 1.2 * fitted_gs_rate, 20)\n",
    "ll_vals_c = np.zeros((len(gs_rates)))\n",
    "\n",
    "for i, gs_rate in tqdm(enumerate(gs_rates)):\n",
    "    _, ll_val_c = example_model.fit(test_gaussian_rate_multiplier=gs_rate)\n",
    "    ll_vals_c[i] = ll_val_c"
   ]
  },
  {
   "cell_type": "code",
   "execution_count": 50,
   "metadata": {},
   "outputs": [
    {
     "data": {
      "text/plain": [
       "Text(0, 0.5, 'q(s)')"
      ]
     },
     "execution_count": 50,
     "metadata": {},
     "output_type": "execute_result"
    },
    {
     "data": {
      "image/png": "[encoded data removed]",
      "text/plain": [
       "<Figure size 640x480 with 1 Axes>"
      ]
     },
     "metadata": {},
     "output_type": "display_data"
    }
   ],
   "source": [
    "x = gs_rates\n",
    "y = 2 * (max_ll - ll_vals_c)\n",
    "confidence_level = 0.9\n",
    "# Plot\n",
    "plt.plot(x, y)\n",
    "plt.axhline(\n",
    "    stats.chi2(1).ppf(confidence_level),\n",
    "    label=\"Asymptotic critical value (90% CL)\",\n",
    "    c=\"orange\",\n",
    "    ls=\"--\",\n",
    ")\n",
    "\n",
    "plt.axvline(fitted_gs_rate, label=f\"Best Fit: {fitted_gs_rate:.1f}\", c=\"red\", ls=\"--\")\n",
    "plt.ylim(0, 8)\n",
    "plt.legend()\n",
    "plt.xlabel(\"test_gaussian rate multiplier\")\n",
    "plt.ylabel(\"q(s)\")"
   ]
  },
  {
   "cell_type": "markdown",
   "metadata": {},
   "source": [
    "## 4.5 Find the fitted smearing model\n",
    "As we mentioned before, the transformation parameters can also be set as \"fittable\" and therefore we can check if the data conflicts with the transformations. "
   ]
  },
  {
   "cell_type": "code",
   "execution_count": 24,
   "metadata": {},
   "outputs": [
    {
     "name": "stderr",
     "output_type": "stream",
     "text": [
      "10it [00:10,  1.09s/it]\n"
     ]
    }
   ],
   "source": [
    "a_vals = np.linspace(0.99 * best_fit[\"smearing_a\"], 1.01 * best_fit[\"smearing_a\"], 10)\n",
    "b_vals = np.linspace(0.95 * best_fit[\"smearing_b\"], 1.05 * best_fit[\"smearing_b\"], 10)\n",
    "\n",
    "ll_vals_c = np.zeros((len(a_vals), len(b_vals)))\n",
    "\n",
    "for i, a in tqdm(enumerate(a_vals)):\n",
    "    for j, b in enumerate(b_vals):\n",
    "        _, ll_val_c = example_model.fit(smearing_a=a, smearing_b=b)\n",
    "        ll_vals_c[i, j] = ll_val_c"
   ]
  },
  {
   "cell_type": "code",
   "execution_count": 25,
   "metadata": {},
   "outputs": [
    {
     "data": {
      "image/png": "[encoded data removed]",
      "text/plain": [
       "<Figure size 800x600 with 2 Axes>"
      ]
     },
     "metadata": {},
     "output_type": "display_data"
    }
   ],
   "source": [
    "plt.figure(figsize=(8, 6))\n",
    "plt.contourf(a_vals, b_vals, 2 * (max_ll - ll_vals_c).T, cmap=\"viridis\")\n",
    "plt.colorbar(label=\"$q(s)$\")\n",
    "\n",
    "contours = plt.contour(\n",
    "    a_vals, b_vals, 2 * (max_ll - ll_vals_c).T, colors=\"white\", linewidths=1, levels=[1, 4, 9]\n",
    ")\n",
    "sigma_levels = {1: r\"1$\\sigma$\", 4: r\"2$\\sigma$\", 9: r\"3$\\sigma$\"}\n",
    "plt.clabel(contours, inline=True, fontsize=10, fmt=sigma_levels)\n",
    "\n",
    "plt.scatter(best_fit[\"smearing_a\"], best_fit[\"smearing_b\"], color=\"red\")\n",
    "plt.xlabel(\"Smearing Parameter a\")\n",
    "plt.ylabel(\"Smearing Parameter b\")\n",
    "plt.title(\"$q(s)$\")\n",
    "plt.tight_layout()\n",
    "plt.show()"
   ]
  },
  {
   "cell_type": "code",
   "execution_count": null,
   "metadata": {},
   "outputs": [],
   "source": []
  }
 ],
 "metadata": {
  "kernelspec": {
   "display_name": "Python 3",
   "language": "python",
   "name": "python3"
  },
  "language_info": {
   "codemirror_mode": {
    "name": "ipython",
    "version": 3
   },
   "file_extension": ".py",
   "mimetype": "text/x-python",
   "name": "python",
   "nbconvert_exporter": "python",
   "pygments_lexer": "ipython3",
   "version": "3.9.19"
  }
 },
 "nbformat": 4,
 "nbformat_minor": 2
}
