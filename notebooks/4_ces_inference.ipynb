{
 "cells": [
  {
   "cell_type": "code",
   "execution_count": 111,
   "metadata": {},
   "outputs": [],
   "source": [
    "import numpy as np\n",
    "import matplotlib.pyplot as plt\n",
    "from inference_interface import multihist_to_template, template_to_multihist\n",
    "from multihist import Histdd, Hist1d"
   ]
  },
  {
   "cell_type": "code",
   "execution_count": 33,
   "metadata": {},
   "outputs": [],
   "source": [
    "from alea.ces_source import CESTemplateSource\n",
    "from alea.template_source import TemplateSource\n",
    "from alea.utils import load_yaml\n",
    "from alea.utils import get_file_path"
   ]
  },
  {
   "cell_type": "code",
   "execution_count": 253,
   "metadata": {},
   "outputs": [],
   "source": [
    "import multihist as mh\n",
    "HAVE_MULTIHIST = True\n",
    "def template_to_multihist(file_name, hist_name=None, hist_to_read=Histdd):\n",
    "    \"\"\"\n",
    "    Function that loads a template into the Hist1d or Histdd format\n",
    "    :param file_name: name of template file\n",
    "    :param hist_name: name of template, if None, return a dict indexed by histogram names containing the histograms\n",
    "    \"\"\"\n",
    "    if not HAVE_MULTIHIST:\n",
    "        raise NotImplementedError(\"template_to_multihist requires multihist\")\n",
    "    \n",
    "    with h5py.File(file_name, \"r\") as f:\n",
    "        if hist_name is None:\n",
    "            ret = dict()\n",
    "            for hist_name in f[\"templates\"]:\n",
    "                if hist_to_read == Hist1d:\n",
    "                    # for 1d case, flatten the bins\n",
    "                    bins = np.array(f[\"bins/0\"])\n",
    "                    print(bins)\n",
    "                    h = mh.Hist1d.from_histogram(np.array(f[\"templates/\" + hist_name]), bins)\n",
    "                else:\n",
    "                    bins = [np.array(f[f\"bins/{i}\"]) for i in range(len(f[\"bins\"]))]\n",
    "                    bin_names = [f[f\"bins/{i}\"].attrs.get(\"name\", f\"axis{i}\") for i in range(len(f[\"bins\"]))]\n",
    "                    h = mh.Histdd(bins=bins, axis_names=bin_names)\n",
    "                    h.histogram = np.array(f[\"templates/\" + hist_name])\n",
    "                ret[hist_name] = h\n",
    "        else:\n",
    "            bins = [np.array(f[f\"bins/{i}\"]) for i in range(len(f[\"bins\"]))]\n",
    "            if len(bins) == 1:\n",
    "                ret = mh.Hist1d.from_histogram(np.array(f[\"templates/\" + hist_name]), bins[0])\n",
    "            else:\n",
    "                bin_names = [f[f\"bins/{i}\"].attrs.get(\"name\", f\"axis{i}\") for i in range(len(f[\"bins\"]))]\n",
    "                ret = mh.Histdd(bins=bins, axis_names=bin_names)\n",
    "                ret.histogram = np.array(f[\"templates/\" + hist_name])\n",
    "\n",
    "    return ret\n",
    "\n",
    "def multihist_to_template(\n",
    "        histograms, file_name,\n",
    "        histogram_names=None,\n",
    "        hist_to_store = Histdd,\n",
    "        metadata={\"version\":\"0.0\",\"date\":datetime.now().strftime('%Y%m%d_%H:%M:%S')}):\n",
    "    if not HAVE_MULTIHIST:\n",
    "        raise NotImplementedError(\"template_to_multihist requires multihist\")\n",
    "    if histogram_names is None:\n",
    "        histogram_names = [\"%i\" for i in range(len(histograms))]\n",
    "    with h5py.File(file_name, \"w\") as f:\n",
    "        for k, i in metadata.items():\n",
    "            f.attrs[k] = i\n",
    "        bins = histograms[0].bin_edges\n",
    "        axis_names = histograms[0].axis_names\n",
    "        if hist_to_store == Hist1d:\n",
    "            dset = f.create_dataset(\"bins/0\", data=bins)\n",
    "        else:\n",
    "            if axis_names is None:\n",
    "                axis_names = [\"\" for i in range(len(bins))]\n",
    "            for i, (b, bn) in enumerate(zip(bins, axis_names)):\n",
    "                dset = f.create_dataset(\"bins/{:d}\".format(i), data=b)\n",
    "                dset.attrs[\"name\"] = bn\n",
    "\n",
    "        for histogram, histogram_name in zip(histograms, histogram_names):\n",
    "            dset = f.create_dataset(\n",
    "                \"templates/{:s}\".format(histogram_name), data=histogram.histogram)\n"
   ]
  },
  {
   "cell_type": "markdown",
   "metadata": {},
   "source": []
  },
  {
   "cell_type": "code",
   "execution_count": 247,
   "metadata": {},
   "outputs": [],
   "source": [
    "xe133_path = get_file_path(\"xe133_ces.pkl\")"
   ]
  },
  {
   "cell_type": "code",
   "execution_count": 248,
   "metadata": {},
   "outputs": [],
   "source": [
    "# load the ces data in the .pkl file\n",
    "import pickle\n",
    "with open(xe133_path, 'rb') as f:\n",
    "    xe133_data = pickle.load(f)"
   ]
  },
  {
   "cell_type": "code",
   "execution_count": 260,
   "metadata": {},
   "outputs": [],
   "source": [
    "!rm xe133_template.ii.h5\n",
    "multihist_to_template(histograms = [xe133_data], hist_to_store=Hist1d,\n",
    "                      histogram_names  = [\"xe133_template\"],\n",
    "                      file_name = \"xe133_template.ii.h5\")"
   ]
  },
  {
   "cell_type": "code",
   "execution_count": null,
   "metadata": {},
   "outputs": [],
   "source": []
  },
  {
   "cell_type": "code",
   "execution_count": 261,
   "metadata": {},
   "outputs": [],
   "source": [
    "# see the format of example data\n",
    "xe133_file = get_file_path(\"xe133_template.ii.h5\")"
   ]
  },
  {
   "cell_type": "code",
   "execution_count": 262,
   "metadata": {},
   "outputs": [
    {
     "name": "stdout",
     "output_type": "stream",
     "text": [
      "[0.000e+00 1.000e+00 2.000e+00 ... 2.998e+03 2.999e+03 3.000e+03]\n"
     ]
    }
   ],
   "source": [
    "xe133_hist = template_to_multihist(xe133_file, hist_name=None, hist_to_read=Hist1d)"
   ]
  },
  {
   "cell_type": "code",
   "execution_count": 263,
   "metadata": {},
   "outputs": [],
   "source": [
    "wimp_hist = template_to_hist(wimp_file, hist_name=None, hist_to_read=Histdd)"
   ]
  },
  {
   "cell_type": "code",
   "execution_count": 266,
   "metadata": {},
   "outputs": [
    {
     "data": {
      "image/png": "[encoded data removed]",
      "text/plain": [
       "<Figure size 640x480 with 1 Axes>"
      ]
     },
     "metadata": {},
     "output_type": "display_data"
    }
   ],
   "source": [
    "xe133_hist[\"xe133_template\"].plot()"
   ]
  },
  {
   "cell_type": "code",
   "execution_count": null,
   "metadata": {},
   "outputs": [],
   "source": []
  }
 ],
 "metadata": {
  "kernelspec": {
   "display_name": "Python 3 (ipykernel)",
   "language": "python",
   "name": "python3"
  },
  "language_info": {
   "codemirror_mode": {
    "name": "ipython",
    "version": 3
   },
   "file_extension": ".py",
   "mimetype": "text/x-python",
   "name": "python",
   "nbconvert_exporter": "python",
   "pygments_lexer": "ipython3",
   "version": "3.9.12"
  }
 },
 "nbformat": 4,
 "nbformat_minor": 2
}
