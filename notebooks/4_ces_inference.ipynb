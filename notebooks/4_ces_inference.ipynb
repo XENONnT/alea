{
 "cells": [
  {
   "cell_type": "code",
   "execution_count": 1,
   "metadata": {},
   "outputs": [],
   "source": [
    "import numpy as np\n",
    "import matplotlib.pyplot as plt\n",
    "from inference_interface import multihist_to_template, template_to_multihist\n",
    "from multihist import Histdd, Hist1d"
   ]
  },
  {
   "cell_type": "markdown",
   "metadata": {},
   "source": []
  },
  {
   "cell_type": "code",
   "execution_count": 2,
   "metadata": {},
   "outputs": [
    {
     "data": {
      "text/plain": [
       "'/Users/yuema/XENONNT/inference_interface/inference_interface.py'"
      ]
     },
     "execution_count": 2,
     "metadata": {},
     "output_type": "execute_result"
    }
   ],
   "source": [
    "import inference_interface \n",
    "inference_interface.__file__"
   ]
  },
  {
   "cell_type": "code",
   "execution_count": 3,
   "metadata": {},
   "outputs": [],
   "source": [
    "from alea.ces_source import CESTemplateSource\n",
    "from blueice.source import Source, HistogramPdfSource\n",
    "from alea.template_source import TemplateSource\n",
    "from alea.utils import load_yaml\n",
    "from alea.utils import get_file_path\n",
    "from alea.models import BlueiceExtendedModel"
   ]
  },
  {
   "cell_type": "markdown",
   "metadata": {},
   "source": []
  },
  {
   "cell_type": "code",
   "execution_count": null,
   "metadata": {},
   "outputs": [],
   "source": []
  },
  {
   "cell_type": "code",
   "execution_count": 4,
   "metadata": {},
   "outputs": [
    {
     "data": {
      "text/plain": [
       "'\\nxe133_path = get_file_path(\"xe133_ces.pkl\")\\nimport pickle\\nwith open(xe133_path, \\'rb\\') as f:\\n    xe133_data = pickle.load(f)\\n    \\n!rm xe133_template.ii.h5\\nmultihist_to_template(histograms = [xe133_data], hist_to_store=Hist1d,\\n                      histogram_names  = [\"xe133_template\"],\\n                      file_name = \"xe133_template.ii.h5\")\\n# see the format of example data\\nxe133_file = get_file_path(\"xe133_template.ii.h5\")\\nxe133_hist = template_to_multihist(xe133_file, hist_name=None, hist_to_read=Hist1d)\\n'"
      ]
     },
     "execution_count": 4,
     "metadata": {},
     "output_type": "execute_result"
    }
   ],
   "source": [
    "# load the ces data in the .pkl file\n",
    "\"\"\"\n",
    "xe133_path = get_file_path(\"xe133_ces.pkl\")\n",
    "import pickle\n",
    "with open(xe133_path, 'rb') as f:\n",
    "    xe133_data = pickle.load(f)\n",
    "    \n",
    "!rm xe133_template.ii.h5\n",
    "multihist_to_template(histograms = [xe133_data], hist_to_store=Hist1d,\n",
    "                      histogram_names  = [\"xe133_template\"],\n",
    "                      file_name = \"xe133_template.ii.h5\")\n",
    "# see the format of example data\n",
    "xe133_file = get_file_path(\"xe133_template.ii.h5\")\n",
    "xe133_hist = template_to_multihist(xe133_file, hist_name=None, hist_to_read=Hist1d)\n",
    "\"\"\""
   ]
  },
  {
   "cell_type": "code",
   "execution_count": 5,
   "metadata": {},
   "outputs": [],
   "source": [
    "wimp_file = get_file_path(\"wimp50gev_template.ii.h5\")"
   ]
  },
  {
   "cell_type": "code",
   "execution_count": 6,
   "metadata": {},
   "outputs": [],
   "source": [
    "wimp_hist = template_to_multihist(wimp_file, hist_name=None, hist_to_read=Histdd)"
   ]
  },
  {
   "cell_type": "code",
   "execution_count": 38,
   "metadata": {},
   "outputs": [],
   "source": [
    "# test the source\n",
    "xe133_source_path = get_file_path(\"ces_source_test.yaml\")\n",
    "xe133_source_config = load_yaml(xe133_source_path)\n",
    "wimp_config = get_file_path(\"unbinned_wimp_statistical_model_simple.yaml\")"
   ]
  },
  {
   "cell_type": "markdown",
   "metadata": {},
   "source": []
  },
  {
   "cell_type": "code",
   "execution_count": 40,
   "metadata": {},
   "outputs": [
    {
     "name": "stderr",
     "output_type": "stream",
     "text": [
      "Computing/loading models on one core: 100%|██████████| 5/5 [00:00<00:00, 2060.07it/s]\n"
     ]
    }
   ],
   "source": [
    "wimp_model = BlueiceExtendedModel.from_config(wimp_config)\n"
   ]
  },
  {
   "cell_type": "code",
   "execution_count": 41,
   "metadata": {},
   "outputs": [
    {
     "name": "stdout",
     "output_type": "stream",
     "text": [
      "Building histogram\n"
     ]
    },
    {
     "name": "stderr",
     "output_type": "stream",
     "text": [
      "Computing/loading models on one core:   0%|          | 0/9 [00:00<?, ?it/s]"
     ]
    },
    {
     "name": "stdout",
     "output_type": "stream",
     "text": [
      "Building histogram\n"
     ]
    },
    {
     "name": "stderr",
     "output_type": "stream",
     "text": [
      "Computing/loading models on one core:  11%|█         | 1/9 [00:00<00:02,  3.05it/s]"
     ]
    },
    {
     "name": "stdout",
     "output_type": "stream",
     "text": [
      "Building histogram\n"
     ]
    },
    {
     "name": "stderr",
     "output_type": "stream",
     "text": [
      "Computing/loading models on one core:  22%|██▏       | 2/9 [00:00<00:02,  2.98it/s]"
     ]
    },
    {
     "name": "stdout",
     "output_type": "stream",
     "text": [
      "Building histogram\n"
     ]
    },
    {
     "name": "stderr",
     "output_type": "stream",
     "text": [
      "Computing/loading models on one core:  33%|███▎      | 3/9 [00:01<00:02,  2.94it/s]"
     ]
    },
    {
     "name": "stdout",
     "output_type": "stream",
     "text": [
      "Building histogram\n"
     ]
    },
    {
     "name": "stderr",
     "output_type": "stream",
     "text": [
      "Computing/loading models on one core:  44%|████▍     | 4/9 [00:01<00:01,  2.87it/s]"
     ]
    },
    {
     "name": "stdout",
     "output_type": "stream",
     "text": [
      "Building histogram\n"
     ]
    },
    {
     "name": "stderr",
     "output_type": "stream",
     "text": [
      "Computing/loading models on one core:  67%|██████▋   | 6/9 [00:01<00:00,  3.77it/s]"
     ]
    },
    {
     "name": "stdout",
     "output_type": "stream",
     "text": [
      "Building histogram\n"
     ]
    },
    {
     "name": "stderr",
     "output_type": "stream",
     "text": [
      "Computing/loading models on one core:  78%|███████▊  | 7/9 [00:02<00:00,  3.50it/s]"
     ]
    },
    {
     "name": "stdout",
     "output_type": "stream",
     "text": [
      "Building histogram\n"
     ]
    },
    {
     "name": "stderr",
     "output_type": "stream",
     "text": [
      "Computing/loading models on one core:  89%|████████▉ | 8/9 [00:02<00:00,  3.34it/s]"
     ]
    },
    {
     "name": "stdout",
     "output_type": "stream",
     "text": [
      "Building histogram\n"
     ]
    },
    {
     "name": "stderr",
     "output_type": "stream",
     "text": [
      "Computing/loading models on one core: 100%|██████████| 9/9 [00:02<00:00,  3.25it/s]\n"
     ]
    }
   ],
   "source": [
    "xe133_model_config_path = get_file_path(\"unbinned_ces_simple.yaml\")\n",
    "xe133_model = BlueiceExtendedModel.from_config(xe133_model_config_path)"
   ]
  },
  {
   "cell_type": "code",
   "execution_count": 42,
   "metadata": {},
   "outputs": [
    {
     "data": {
      "text/plain": [
       "{'science_run_0': array([( 99.66018934, 0), (154.43513851, 0), (209.11318074, 0),\n",
       "        (137.13082645, 0), ( 93.37542629, 0), (208.42332732, 0),\n",
       "        (206.41271396, 0), (159.4854914 , 0), (166.74989888, 0),\n",
       "        (152.20206311, 0), (103.47161441, 0), (197.9114196 , 0),\n",
       "        (166.00544194, 0), ( 93.4440896 , 0), (240.07552296, 0),\n",
       "        (137.02038021, 0), (292.9864497 , 0), (124.97338558, 0),\n",
       "        (224.67621923, 0), (130.10674914, 0), (317.25329093, 0),\n",
       "        (278.7170878 , 0), (283.07228614, 0), (197.30801721, 0),\n",
       "        (130.21745279, 0), (213.63333659, 0), (291.25837528, 0),\n",
       "        (125.57511408, 0), (214.61595554, 0), (261.88881442, 0)],\n",
       "       dtype=[('ces', '<f8'), ('source', '<i8')]),\n",
       " 'ancillary': array([()], dtype=[]),\n",
       " 'generate_values': array([(1., 24.8, 1.429, 10000.)],\n",
       "       dtype=[('livetime', '<f8'), ('smearing_a', '<f8'), ('smearing_b', '<f8'), ('xe133_rate_multiplier', '<f8')])}"
      ]
     },
     "execution_count": 42,
     "metadata": {},
     "output_type": "execute_result"
    }
   ],
   "source": [
    "data = xe133_model.generate_data()\n",
    "data"
   ]
  },
  {
   "cell_type": "code",
   "execution_count": 43,
   "metadata": {},
   "outputs": [
    {
     "data": {
      "text/plain": [
       "['xe133']"
      ]
     },
     "execution_count": 43,
     "metadata": {},
     "output_type": "execute_result"
    }
   ],
   "source": [
    "xe133_model.all_source_names"
   ]
  },
  {
   "cell_type": "code",
   "execution_count": 44,
   "metadata": {},
   "outputs": [
    {
     "data": {
      "text/plain": [
       "['livetime', 'xe133_rate_multiplier', 'smearing_a', 'smearing_b']"
      ]
     },
     "execution_count": 44,
     "metadata": {},
     "output_type": "execute_result"
    }
   ],
   "source": [
    "xe133_model.get_parameter_list()"
   ]
  },
  {
   "cell_type": "code",
   "execution_count": 45,
   "metadata": {},
   "outputs": [
    {
     "data": {
      "text/plain": [
       "{'xe133': 27.397278178632956}"
      ]
     },
     "execution_count": 45,
     "metadata": {},
     "output_type": "execute_result"
    }
   ],
   "source": [
    "xe133_model.get_expectation_values()"
   ]
  },
  {
   "cell_type": "code",
   "execution_count": 46,
   "metadata": {},
   "outputs": [],
   "source": [
    "\n",
    "xe133_model.data = data"
   ]
  },
  {
   "cell_type": "code",
   "execution_count": 47,
   "metadata": {},
   "outputs": [
    {
     "data": {
      "text/plain": [
       "{'livetime': 1.0,\n",
       " 'xe133_rate_multiplier': 10939.864915667102,\n",
       " 'smearing_a': 20.000314555406554,\n",
       " 'smearing_b': 1.0005179786313048}"
      ]
     },
     "execution_count": 47,
     "metadata": {},
     "output_type": "execute_result"
    }
   ],
   "source": [
    "best_fit, max_ll = xe133_model.fit()\n",
    "best_fit"
   ]
  },
  {
   "cell_type": "code",
   "execution_count": 48,
   "metadata": {},
   "outputs": [
    {
     "data": {
      "text/plain": [
       "{'xe133': 29.972276982063164}"
      ]
     },
     "execution_count": 48,
     "metadata": {},
     "output_type": "execute_result"
    }
   ],
   "source": [
    "xe133_model.get_expectation_values(**best_fit)"
   ]
  },
  {
   "cell_type": "code",
   "execution_count": null,
   "metadata": {},
   "outputs": [],
   "source": []
  }
 ],
 "metadata": {
  "kernelspec": {
   "display_name": "Python 3 (ipykernel)",
   "language": "python",
   "name": "python3"
  },
  "language_info": {
   "codemirror_mode": {
    "name": "ipython",
    "version": 3
   },
   "file_extension": ".py",
   "mimetype": "text/x-python",
   "name": "python",
   "nbconvert_exporter": "python",
   "pygments_lexer": "ipython3",
   "version": "3.9.12"
  }
 },
 "nbformat": 4,
 "nbformat_minor": 2
}
