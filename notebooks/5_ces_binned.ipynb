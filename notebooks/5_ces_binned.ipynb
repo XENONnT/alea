{
 "cells": [
  {
   "cell_type": "code",
   "execution_count": 1,
   "metadata": {},
   "outputs": [],
   "source": [
    "import numpy as np\n",
    "import matplotlib.pyplot as plt\n",
    "import sys\n",
    "import scipy.stats as stats\n",
    "from tqdm import tqdm\n",
    "\n",
    "# use the latest inference_interface to allow 1d hist!\n",
    "sys.path.insert(0, \"/home/yuem/xenon_package/inference_interface\")\n",
    "sys.path.insert(0, \"/home/yuem/xenon_package/blueice\")\n",
    "from inference_interface import multihist_to_template, template_to_multihist\n",
    "from alea.utils import get_file_path\n",
    "from alea.models import BlueiceExtendedModel"
   ]
  },
  {
   "cell_type": "code",
   "execution_count": 2,
   "metadata": {},
   "outputs": [
    {
     "data": {
      "text/plain": [
       "{'template_folder': None,\n",
       " 'likelihood_terms': [{'name': 'science_run_0',\n",
       "   'default_source_class': 'alea.ces_source.CESTemplateSource',\n",
       "   'likelihood_type': 'blueice.likelihood.BinnedLogLikelihood',\n",
       "   'analysis_space': [{'ces': 'np.arange(0, 500, 1)'}],\n",
       "   'apply_efficiency': True,\n",
       "   'efficiency_model': 'constant',\n",
       "   'efficiency_parameters': ['efficiency_constant'],\n",
       "   'apply_smearing': True,\n",
       "   'smearing_model': 'gaussian',\n",
       "   'smearing_parameters': ['smearing_a', 'smearing_b'],\n",
       "   'apply_bias': False,\n",
       "   'livetime_parameter': 'livetime',\n",
       "   'slice_args': {},\n",
       "   'source_wise_interpolation': False,\n",
       "   'sources': [{'name': 'xe133',\n",
       "     'histname': 'xe133_template',\n",
       "     'parameters': ['xe133_rate_multiplier',\n",
       "      'smearing_a',\n",
       "      'smearing_b',\n",
       "      'efficiency_constant'],\n",
       "     'template_filename': 'xe133_template.ii.h5'},\n",
       "    {'name': 'xe136',\n",
       "     'histname': 'xe136_hsd',\n",
       "     'parameters': ['xe136_rate_multiplier',\n",
       "      'smearing_a',\n",
       "      'smearing_b',\n",
       "      'efficiency_constant'],\n",
       "     'template_filename': 'xe136_template.ii.h5'},\n",
       "    {'name': 'test_gaussian',\n",
       "     'class': 'alea.ces_source.CESMonoenergySource',\n",
       "     'peak_energy': 300,\n",
       "     'parameters': ['test_gaussian_rate_multiplier',\n",
       "      'smearing_a',\n",
       "      'smearing_b',\n",
       "      'efficiency_constant']},\n",
       "    {'name': 'test_flat',\n",
       "     'class': 'alea.ces_source.CESFlatSource',\n",
       "     'parameters': ['test_flat_rate_multiplier', 'efficiency_constant']}]}]}"
      ]
     },
     "execution_count": 2,
     "metadata": {},
     "output_type": "execute_result"
    }
   ],
   "source": [
    "import yaml\n",
    "\n",
    "example_model_config_path = get_file_path(\"binned_ces.yaml\")\n",
    "with open(example_model_config_path, \"r\") as f:\n",
    "    example_model_config = yaml.load(f, Loader=yaml.FullLoader)\n",
    "example_model_config[\"likelihood_config\"]"
   ]
  },
  {
   "cell_type": "code",
   "execution_count": 3,
   "metadata": {},
   "outputs": [
    {
     "name": "stdout",
     "output_type": "stream",
     "text": [
      "False\n",
      "Building histogram\n",
      "Building histogram\n",
      "Building histogram\n",
      "Building histogram\n"
     ]
    },
    {
     "name": "stderr",
     "output_type": "stream",
     "text": [
      "Computing/loading models on one core:   0%|          | 0/2 [00:00<?, ?it/s]"
     ]
    },
    {
     "name": "stdout",
     "output_type": "stream",
     "text": [
      "Building histogram\n",
      "Building histogram\n",
      "Building histogram\n",
      "Building histogram\n"
     ]
    },
    {
     "name": "stderr",
     "output_type": "stream",
     "text": [
      "Computing/loading models on one core:  50%|█████     | 1/2 [00:06<00:06,  6.74s/it]"
     ]
    },
    {
     "name": "stdout",
     "output_type": "stream",
     "text": [
      "Building histogram\n",
      "Building histogram\n",
      "Building histogram\n",
      "Building histogram\n"
     ]
    },
    {
     "name": "stderr",
     "output_type": "stream",
     "text": [
      "Computing/loading models on one core: 100%|██████████| 2/2 [00:13<00:00,  6.78s/it]\n",
      "building data generators: 100%|██████████| 1/1 [00:00<00:00, 213.02it/s]\n"
     ]
    }
   ],
   "source": [
    "example_model = BlueiceExtendedModel.from_config(example_model_config_path)"
   ]
  },
  {
   "cell_type": "code",
   "execution_count": 4,
   "metadata": {},
   "outputs": [
    {
     "data": {
      "text/plain": [
       "{'test_flat': 792.0442283053451,\n",
       " 'test_gaussian': 240.00000000000006,\n",
       " 'xe133': 800.000721781116,\n",
       " 'xe136': 143.92387659003202}"
      ]
     },
     "execution_count": 4,
     "metadata": {},
     "output_type": "execute_result"
    }
   ],
   "source": [
    "example_model.get_expectation_values()"
   ]
  },
  {
   "cell_type": "code",
   "execution_count": 5,
   "metadata": {},
   "outputs": [
    {
     "data": {
      "text/plain": [
       "array([[0., 0., 0., ..., 0., 0., 0.],\n",
       "       [0., 0., 0., ..., 0., 0., 0.],\n",
       "       [0., 0., 0., ..., 0., 0., 0.],\n",
       "       [0., 0., 0., ..., 0., 0., 0.]])"
      ]
     },
     "execution_count": 5,
     "metadata": {},
     "output_type": "execute_result"
    }
   ],
   "source": [
    "# n_model_events\n",
    "example_model.likelihood_list[0].n_model_events"
   ]
  },
  {
   "cell_type": "code",
   "execution_count": 6,
   "metadata": {},
   "outputs": [
    {
     "data": {
      "text/plain": [
       "array([[9.04773443e-007, 1.70022150e-006, 1.44361290e-006, ...,\n",
       "        2.22874512e-016, 1.23613836e-016, 6.80635389e-017],\n",
       "       [9.62553564e-005, 2.15366454e-004, 2.87128406e-004, ...,\n",
       "        3.97230401e-003, 3.97902833e-003, 1.99119323e-003],\n",
       "       [1.70928755e-266, 9.90163184e-265, 5.65851486e-263, ...,\n",
       "        6.90529806e-116, 4.76078521e-117, 3.23801449e-118],\n",
       "       [2.03167054e-003, 2.02884836e-003, 2.02791341e-003, ...,\n",
       "        1.15496934e-003, 1.09184961e-003, 1.02823755e-003]])"
      ]
     },
     "execution_count": 6,
     "metadata": {},
     "output_type": "execute_result"
    }
   ],
   "source": [
    "# ps: pmf grid (binned)\n",
    "example_model.likelihood_list[0].ps"
   ]
  },
  {
   "cell_type": "code",
   "execution_count": 7,
   "metadata": {},
   "outputs": [
    {
     "data": {
      "text/plain": [
       "array([0.80000072, 0.14392388, 0.8       , 0.79204423])"
      ]
     },
     "execution_count": 7,
     "metadata": {},
     "output_type": "execute_result"
    }
   ],
   "source": [
    "example_model.likelihood_list[0].base_model.expected_events()"
   ]
  },
  {
   "cell_type": "code",
   "execution_count": 9,
   "metadata": {},
   "outputs": [
    {
     "data": {
      "image/png": "[encoded data removed]",
      "text/plain": [
       "<Figure size 640x480 with 1 Axes>"
      ]
     },
     "metadata": {},
     "output_type": "display_data"
    }
   ],
   "source": [
    "data = example_model.generate_data()\n",
    "example_model.data = data\n",
    "plt.hist(data[\"science_run_0\"][\"ces\"], bins=np.linspace(0, 500, 100), histtype=\"step\")\n",
    "plt.show()"
   ]
  },
  {
   "cell_type": "code",
   "execution_count": 10,
   "metadata": {},
   "outputs": [
    {
     "data": {
      "text/plain": [
       "{'livetime': 365.0,\n",
       " 'xe133_rate_multiplier': 1136.7762644727761,\n",
       " 'xe136_rate_multiplier': 1436.8724405666403,\n",
       " 'test_flat_rate_multiplier': 1014.8074215412022,\n",
       " 'test_gaussian_rate_multiplier': 294.5898963441039,\n",
       " 'smearing_a': 24.8,\n",
       " 'smearing_b': 1.429,\n",
       " 'efficiency_constant': 0.7448352987245639}"
      ]
     },
     "execution_count": 10,
     "metadata": {},
     "output_type": "execute_result"
    }
   ],
   "source": [
    "best_fit, max_ll = example_model.fit()\n",
    "best_fit"
   ]
  },
  {
   "cell_type": "code",
   "execution_count": 11,
   "metadata": {},
   "outputs": [
    {
     "name": "stderr",
     "output_type": "stream",
     "text": [
      "0it [00:00, ?it/s]"
     ]
    },
    {
     "name": "stderr",
     "output_type": "stream",
     "text": [
      "20it [00:19,  1.02it/s]\n"
     ]
    }
   ],
   "source": [
    "fitted_gs_rate = best_fit[\"test_gaussian_rate_multiplier\"]\n",
    "gs_rates = np.linspace(0.8 * fitted_gs_rate, 1.2 * fitted_gs_rate, 20)\n",
    "ll_vals_c = np.zeros((len(gs_rates)))\n",
    "\n",
    "for i, gs_rate in tqdm(enumerate(gs_rates)):\n",
    "    _, ll_val_c = example_model.fit(test_gaussian_rate_multiplier=gs_rate)\n",
    "    ll_vals_c[i] = ll_val_c"
   ]
  },
  {
   "cell_type": "code",
   "execution_count": 12,
   "metadata": {},
   "outputs": [
    {
     "data": {
      "text/plain": [
       "Text(0, 0.5, 'q(s)')"
      ]
     },
     "execution_count": 12,
     "metadata": {},
     "output_type": "execute_result"
    },
    {
     "data": {
      "image/png": "[encoded data removed]",
      "text/plain": [
       "<Figure size 640x480 with 1 Axes>"
      ]
     },
     "metadata": {},
     "output_type": "display_data"
    }
   ],
   "source": [
    "x = gs_rates\n",
    "y = 2 * (max_ll - ll_vals_c)\n",
    "confidence_level = 0.9\n",
    "# Plot\n",
    "plt.plot(x, y)\n",
    "plt.axhline(\n",
    "    stats.chi2(1).ppf(confidence_level),\n",
    "    label=\"Asymptotic critical value (90% CL)\",\n",
    "    c=\"orange\",\n",
    "    ls=\"--\",\n",
    ")\n",
    "\n",
    "plt.axvline(fitted_gs_rate, label=f\"Best Fit: {fitted_gs_rate:.1f}\", c=\"red\", ls=\"--\")\n",
    "plt.ylim(0, 8)\n",
    "plt.legend()\n",
    "plt.xlabel(\"test_gaussian rate multiplier\")\n",
    "plt.ylabel(\"q(s)\")"
   ]
  },
  {
   "cell_type": "code",
   "execution_count": null,
   "metadata": {},
   "outputs": [],
   "source": []
  },
  {
   "cell_type": "code",
   "execution_count": null,
   "metadata": {},
   "outputs": [],
   "source": []
  }
 ],
 "metadata": {
  "kernelspec": {
   "display_name": "Python 3",
   "language": "python",
   "name": "python3"
  },
  "language_info": {
   "codemirror_mode": {
    "name": "ipython",
    "version": 3
   },
   "file_extension": ".py",
   "mimetype": "text/x-python",
   "name": "python",
   "nbconvert_exporter": "python",
   "pygments_lexer": "ipython3",
   "version": "3.9.21"
  }
 },
 "nbformat": 4,
 "nbformat_minor": 2
}
